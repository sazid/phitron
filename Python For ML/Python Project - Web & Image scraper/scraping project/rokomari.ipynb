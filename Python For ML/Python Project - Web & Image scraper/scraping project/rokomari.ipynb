{
 "cells": [
  {
   "cell_type": "code",
   "execution_count": 1,
   "id": "deeac094",
   "metadata": {},
   "outputs": [],
   "source": [
    "import requests\n",
    "from bs4 import BeautifulSoup as bs\n",
    "from urllib.request import urlopen"
   ]
  },
  {
   "cell_type": "code",
   "execution_count": null,
   "id": "59bc3225",
   "metadata": {},
   "outputs": [],
   "source": []
  },
  {
   "cell_type": "code",
   "execution_count": 2,
   "id": "0c8d1f0d",
   "metadata": {},
   "outputs": [],
   "source": [
    "url = \"https://www.rokomari.com/search?term=python\""
   ]
  },
  {
   "cell_type": "code",
   "execution_count": 3,
   "id": "f42c108b",
   "metadata": {},
   "outputs": [],
   "source": [
    "response = requests.get(url)"
   ]
  },
  {
   "cell_type": "code",
   "execution_count": 4,
   "id": "193bbe9e",
   "metadata": {},
   "outputs": [],
   "source": [
    "page = bs(response.text, 'html.parser')"
   ]
  },
  {
   "cell_type": "code",
   "execution_count": 5,
   "id": "de62ab6a",
   "metadata": {},
   "outputs": [],
   "source": [
    "bigbox = page.findAll(\"div\", {'class' : \"books-wrapper__item\"})"
   ]
  },
  {
   "cell_type": "code",
   "execution_count": 6,
   "id": "f891f504",
   "metadata": {},
   "outputs": [
    {
     "data": {
      "text/plain": [
       "60"
      ]
     },
     "execution_count": 6,
     "metadata": {},
     "output_type": "execute_result"
    }
   ],
   "source": [
    "len(bigbox)"
   ]
  },
  {
   "cell_type": "code",
   "execution_count": 7,
   "id": "5d098540",
   "metadata": {},
   "outputs": [],
   "source": [
    "\n",
    "book_details_lst = []\n",
    "for i in bigbox:\n",
    "    try:\n",
    "        full_link = f\"https://www.rokomari.com{i.div.a['href']}\"\n",
    "        link_res = requests.get(full_link)\n",
    "        book_page = bs(link_res.text, 'html.parser')\n",
    "        title = book_page.find(\"div\", {'class' : 'details-book-main-info__header'}).h1.text\n",
    "        details = book_page.find(\"div\", {'class' : \"details-book-main-info__content\"})\n",
    "        author_name = details.p.a.text\n",
    "        category = details.div.p.span.text\n",
    "        wished_count = details.find('div', {'class': \"wished-customer-count\"}).p.text\n",
    "        price_details= details.find('div', {'class': \"details-book-info__content-book-price\"})\n",
    "        original_price = price_details.span.text\n",
    "        sell_price = price_details.strike.text\n",
    "        save_tk = price_details.find('span', {'class': \"js--save-message\"}).text\n",
    "        stock= details.find('figure', {'class': \"stock-available\"}).text\n",
    "        review_details= book_page.find('div', {'class': \"review-wrapper\"})\n",
    "        rating = review_details.find('div', {'class': 'review-wrapper__rating-summary'}).h3.text\n",
    "\n",
    "        \n",
    "    except:\n",
    "        pass\n",
    "    else:\n",
    "        book_details_lst.append([title, author_name, category, wished_count, original_price, sell_price,save_tk, stock, rating])\n",
    "        \n",
    "   "
   ]
  },
  {
   "cell_type": "code",
   "execution_count": 8,
   "id": "f73e31ae",
   "metadata": {},
   "outputs": [
    {
     "ename": "NameError",
     "evalue": "name 'author_name' is not defined",
     "output_type": "error",
     "traceback": [
      "\u001b[0;31m---------------------------------------------------------------------------\u001b[0m",
      "\u001b[0;31mNameError\u001b[0m                                 Traceback (most recent call last)",
      "Cell \u001b[0;32mIn[8], line 2\u001b[0m\n\u001b[1;32m      1\u001b[0m \u001b[38;5;28;01mimport\u001b[39;00m\u001b[38;5;250m \u001b[39m\u001b[38;5;21;01mcsv\u001b[39;00m\n\u001b[0;32m----> 2\u001b[0m field_names \u001b[38;5;241m=\u001b[39m [author_name, category, wished_count, original_price, sell_price,save_tk, stock, rating]\n\u001b[1;32m      4\u001b[0m \u001b[38;5;28;01mwith\u001b[39;00m \u001b[38;5;28mopen\u001b[39m(\u001b[38;5;124m\"\u001b[39m\u001b[38;5;124mbook_details.csv\u001b[39m\u001b[38;5;124m\"\u001b[39m, \u001b[38;5;124m\"\u001b[39m\u001b[38;5;124mw\u001b[39m\u001b[38;5;124m\"\u001b[39m) \u001b[38;5;28;01mas\u001b[39;00m csvf:\n\u001b[1;32m      5\u001b[0m     csv_writer \u001b[38;5;241m=\u001b[39m csv\u001b[38;5;241m.\u001b[39mwriter(csvf, delimiter\u001b[38;5;241m=\u001b[39m\u001b[38;5;124m\"\u001b[39m\u001b[38;5;124m,\u001b[39m\u001b[38;5;124m\"\u001b[39m,quoting \u001b[38;5;241m=\u001b[39m csv\u001b[38;5;241m.\u001b[39mQUOTE_MINIMAL)\n",
      "\u001b[0;31mNameError\u001b[0m: name 'author_name' is not defined"
     ]
    }
   ],
   "source": [
    "import csv\n",
    "field_names = [author_name, category, wished_count, original_price, sell_price,save_tk, stock, rating]\n",
    "\n",
    "with open(\"book_details.csv\", \"w\") as csvf:\n",
    "    csv_writer = csv.writer(csvf, delimiter=\",\",quoting = csv.QUOTE_MINIMAL)\n",
    "    csv_writer.writerow(field_names)\n",
    "    \n",
    "    csv_writer.writerows(book_details_lst)\n",
    "    "
   ]
  },
  {
   "cell_type": "code",
   "execution_count": null,
   "id": "25d3204f-d92c-48c6-a72e-4cd358276eed",
   "metadata": {},
   "outputs": [],
   "source": []
  }
 ],
 "metadata": {
  "kernelspec": {
   "display_name": "Python 3 (ipykernel)",
   "language": "python",
   "name": "python3"
  },
  "language_info": {
   "codemirror_mode": {
    "name": "ipython",
    "version": 3
   },
   "file_extension": ".py",
   "mimetype": "text/x-python",
   "name": "python",
   "nbconvert_exporter": "python",
   "pygments_lexer": "ipython3",
   "version": "3.13.5"
  }
 },
 "nbformat": 4,
 "nbformat_minor": 5
}
