{
 "cells": [
  {
   "cell_type": "markdown",
   "id": "2b78b755-0cb1-4cec-bdbd-2edeee4cf913",
   "metadata": {},
   "source": [
    "### What is numpy\n",
    "\n",
    "NumPy is a Python library used for dealing with arrays. In Python, we use the list inplace of the array but it’s slow to process. NumPy array is a powerful N-dimensional array object and is used in linear algebra, Fourier transform, and random number capabilities. It provides an array object much faster than traditional Python lists."
   ]
  },
  {
   "cell_type": "code",
   "execution_count": 60,
   "id": "1e534847-b4dd-4380-acd0-e25d87fe951c",
   "metadata": {},
   "outputs": [],
   "source": [
    "import numpy as np"
   ]
  },
  {
   "cell_type": "markdown",
   "id": "576911c6-c23d-41d2-bb05-af36ff6701ce",
   "metadata": {},
   "source": [
    "## Convert list to numpy array"
   ]
  },
  {
   "cell_type": "code",
   "execution_count": 61,
   "id": "c760cee6-27f0-4fc5-8858-06df2a17afe6",
   "metadata": {},
   "outputs": [],
   "source": [
    "l = [1,2,3,4]"
   ]
  },
  {
   "cell_type": "code",
   "execution_count": 62,
   "id": "f6acfa81-4660-420a-8032-1841021fdb84",
   "metadata": {},
   "outputs": [
    {
     "data": {
      "text/plain": [
       "array([1, 2, 3, 4])"
      ]
     },
     "execution_count": 62,
     "metadata": {},
     "output_type": "execute_result"
    }
   ],
   "source": [
    "np.array(l)"
   ]
  },
  {
   "cell_type": "code",
   "execution_count": 63,
   "id": "8ed9cd10-c394-4057-8891-0cdb485bb29d",
   "metadata": {},
   "outputs": [
    {
     "data": {
      "text/plain": [
       "array([1, 2, 3, 4])"
      ]
     },
     "execution_count": 63,
     "metadata": {},
     "output_type": "execute_result"
    }
   ],
   "source": [
    "np.asarray(l)"
   ]
  },
  {
   "cell_type": "code",
   "execution_count": 64,
   "id": "8240fa26-a013-4bd0-8d4d-47f557dfa0c4",
   "metadata": {},
   "outputs": [
    {
     "data": {
      "text/plain": [
       "array([1, 2, 3, 4])"
      ]
     },
     "execution_count": 64,
     "metadata": {},
     "output_type": "execute_result"
    }
   ],
   "source": [
    "np.asanyarray(l)"
   ]
  },
  {
   "cell_type": "markdown",
   "id": "ed31dea5-0232-4b7b-ae8a-8328ee007175",
   "metadata": {},
   "source": [
    "### Difference Between np.array() & np.asarray() \n",
    "The np.array() in Python is used to convert a list, tuple, etc. into a Numpy array.\n",
    "The numpy.asarray()function is used when we want to convert the input to an array. Input can be lists, lists of tuples, tuples, tuples of tuples, tuples of lists and arrays.\n",
    "\n",
    "In Python, NumPy array and NumPy asarray are used to convert the data into ndarray. If we talk about the major difference that is when we make a NumPy array using np.array, it creates a copy of the object array or the original array and does not reflect any changes made to the original array. Whereas on the other hand, when we try to use NumPy asarray, it would reflect all the changes made to the original array."
   ]
  },
  {
   "cell_type": "code",
   "execution_count": 65,
   "id": "88f8737b-9923-4fd1-a189-7ce297bf040c",
   "metadata": {},
   "outputs": [
    {
     "name": "stdout",
     "output_type": "stream",
     "text": [
      "Original array :  [2 3 4 5 6]\n",
      "np.array Array :  [2 3 4 5 6]\n",
      "np.asarray Array :  [2 3 4 0 6]\n"
     ]
    }
   ],
   "source": [
    "import numpy as np\n",
    " \n",
    "# creating array\n",
    "a = np.array([ 2, 3, 4, 5, 6])\n",
    "print(\"Original array : \",a)\n",
    " \n",
    "# assigning value to np.array\n",
    "np_array = np.array(a)\n",
    "a[3] = 0\n",
    "print(\"np.array Array : \",np_array)\n",
    " \n",
    "# assigning value to np.asarray\n",
    "np_array = np.asarray(a)\n",
    "a[3] = 0\n",
    "print(\"np.asarray Array : \",np_array)\n"
   ]
  },
  {
   "cell_type": "code",
   "execution_count": 66,
   "id": "3b23953d-ce71-410b-bf9f-1c69d28d5c4e",
   "metadata": {},
   "outputs": [
    {
     "name": "stdout",
     "output_type": "stream",
     "text": [
      "Original Array:  [1 2 3 4]\n",
      "np.array:  [1 2 3 4]\n",
      "np.asarray:  [ 1  2  3 10]\n"
     ]
    }
   ],
   "source": [
    "l = [1,2,3,4]\n",
    "array = np.array(l)\n",
    "print(\"Original Array: \", array)\n",
    "\n",
    "num_array = np.array(array)\n",
    "array[3] = 10\n",
    "print(\"np.array: \", num_array)\n",
    "\n",
    "num_array = np.asarray(array)\n",
    "array[3] = 10\n",
    "print(\"np.asarray: \", num_array)\n"
   ]
  },
  {
   "cell_type": "code",
   "execution_count": 67,
   "id": "316ded29-9314-4941-8f35-eb45cf478cce",
   "metadata": {},
   "outputs": [
    {
     "name": "stdout",
     "output_type": "stream",
     "text": [
      "Original Array:  [1 2 3 4]\n",
      "Original array address:  4436121360\n",
      "np.array:  [1 2 3 4]\n",
      "np.arrayarray address:  4436120208\n",
      "np.asarray:  [ 1  2  3 10]\n",
      "np.asarray array address:  4436121360\n"
     ]
    }
   ],
   "source": [
    "l = [1,2,3,4]\n",
    "array = np.asarray(l)\n",
    "print(\"Original Array: \", array)\n",
    "print(\"Original array address: \", id(array))\n",
    "\n",
    "num_array = np.array(array)\n",
    "array[3] = 10\n",
    "print(\"np.array: \", num_array)\n",
    "print(\"np.arrayarray address: \", id(num_array))\n",
    "\n",
    "num_array = np.asarray(array)\n",
    "array[3] = 10\n",
    "print(\"np.asarray: \", num_array)\n",
    "print(\"np.asarray array address: \", id(num_array))"
   ]
  },
  {
   "cell_type": "markdown",
   "id": "3b4af0af-e0a0-4199-b0f5-ae8e368269f9",
   "metadata": {},
   "source": [
    "\n",
    "1. np.array is the most common function for converting input data to a NumPy array. It copies the input data by default.\n",
    "2. np.asarray is more memory efficient than np.array because it does not copy the input data if it is already a NumPy array.\n",
    "3. np.asanyarray converts input data to a NumPy array, even if the input data is a subclass of ndarray. if input data is a matrix. np.asanyarray did not convert matrix to array. because matrix is subset of array. \n"
   ]
  },
  {
   "cell_type": "code",
   "execution_count": 68,
   "id": "9489f1a5-c9e7-4a8f-82d4-b16684ca13eb",
   "metadata": {},
   "outputs": [],
   "source": [
    "l = [1,2,3,4]"
   ]
  },
  {
   "cell_type": "code",
   "execution_count": 69,
   "id": "b28e05e9-1578-4ac1-901c-96210266dbd6",
   "metadata": {},
   "outputs": [
    {
     "data": {
      "text/plain": [
       "array([1, 2, 3, 4])"
      ]
     },
     "execution_count": 69,
     "metadata": {},
     "output_type": "execute_result"
    }
   ],
   "source": [
    "np.asanyarray(l)"
   ]
  },
  {
   "cell_type": "code",
   "execution_count": 70,
   "id": "fe1d0d67-b880-428c-aad5-ef2db44ca4c8",
   "metadata": {},
   "outputs": [
    {
     "data": {
      "text/plain": [
       "matrix([[1, 2, 3, 4]])"
      ]
     },
     "execution_count": 70,
     "metadata": {},
     "output_type": "execute_result"
    }
   ],
   "source": [
    "np.matrix(l)"
   ]
  },
  {
   "cell_type": "code",
   "execution_count": 71,
   "id": "740efccf-1a99-4155-a856-892ef43b2d7b",
   "metadata": {},
   "outputs": [],
   "source": [
    "l = [[1,2,3,4], [5, 6, 7, 8]]"
   ]
  },
  {
   "cell_type": "code",
   "execution_count": 72,
   "id": "7b5b0538-b0cf-4252-aabd-6edb6dcaa0d8",
   "metadata": {},
   "outputs": [
    {
     "data": {
      "text/plain": [
       "array([[1, 2, 3, 4],\n",
       "       [5, 6, 7, 8]])"
      ]
     },
     "execution_count": 72,
     "metadata": {},
     "output_type": "execute_result"
    }
   ],
   "source": [
    "np.asanyarray(l)"
   ]
  },
  {
   "cell_type": "code",
   "execution_count": 73,
   "id": "05a13c02-d93c-4b0e-b6e3-ec6c6d06d5fa",
   "metadata": {},
   "outputs": [],
   "source": [
    "mtx = np.matrix(l)"
   ]
  },
  {
   "cell_type": "code",
   "execution_count": 74,
   "id": "33c16fa0-0736-4600-9bf4-a5fa4dcd4aa1",
   "metadata": {},
   "outputs": [
    {
     "data": {
      "text/plain": [
       "matrix([[1, 2, 3, 4],\n",
       "        [5, 6, 7, 8]])"
      ]
     },
     "execution_count": 74,
     "metadata": {},
     "output_type": "execute_result"
    }
   ],
   "source": [
    "mtx"
   ]
  },
  {
   "cell_type": "code",
   "execution_count": 75,
   "id": "3e5ec869-ad5c-4f1a-b444-0e4567d251d8",
   "metadata": {},
   "outputs": [
    {
     "data": {
      "text/plain": [
       "matrix([[1, 2, 3, 4],\n",
       "        [5, 6, 7, 8]])"
      ]
     },
     "execution_count": 75,
     "metadata": {},
     "output_type": "execute_result"
    }
   ],
   "source": [
    "np.asanyarray(mtx)"
   ]
  },
  {
   "cell_type": "code",
   "execution_count": 76,
   "id": "f414d4c6-dd0c-4ed8-b983-6f88e95b1367",
   "metadata": {},
   "outputs": [
    {
     "data": {
      "text/plain": [
       "array([[1, 2, 3, 4],\n",
       "       [5, 6, 7, 8]])"
      ]
     },
     "execution_count": 76,
     "metadata": {},
     "output_type": "execute_result"
    }
   ],
   "source": [
    "np.asarray(mtx)"
   ]
  },
  {
   "cell_type": "code",
   "execution_count": 77,
   "id": "f5ceead2-a4ef-4cbb-8823-d102c56f9b74",
   "metadata": {},
   "outputs": [
    {
     "data": {
      "text/plain": [
       "array([[1, 2, 3, 4],\n",
       "       [5, 6, 7, 8]])"
      ]
     },
     "execution_count": 77,
     "metadata": {},
     "output_type": "execute_result"
    }
   ],
   "source": [
    "np.array(mtx)"
   ]
  },
  {
   "cell_type": "markdown",
   "id": "9814f195-e2bc-4a44-a6e1-f01a434d8f94",
   "metadata": {},
   "source": [
    "### Genarate array using fromfunction\n",
    "\n",
    "np.fromfunction is a array genarative function "
   ]
  },
  {
   "cell_type": "code",
   "execution_count": 78,
   "id": "4b624e2b-c5fd-49a6-b27a-e8c6aee327eb",
   "metadata": {},
   "outputs": [
    {
     "data": {
      "text/plain": [
       "array([[ True, False, False],\n",
       "       [False,  True, False],\n",
       "       [False, False,  True]])"
      ]
     },
     "execution_count": 78,
     "metadata": {},
     "output_type": "execute_result"
    }
   ],
   "source": [
    "np.fromfunction(lambda i, j: i==j,(3,3))"
   ]
  },
  {
   "cell_type": "code",
   "execution_count": 79,
   "id": "7b3d3ba9-bcc2-4613-b24f-41bbf63b05bb",
   "metadata": {},
   "outputs": [
    {
     "data": {
      "text/plain": [
       "array([[ True, False],\n",
       "       [False,  True],\n",
       "       [False, False],\n",
       "       [False, False]])"
      ]
     },
     "execution_count": 79,
     "metadata": {},
     "output_type": "execute_result"
    }
   ],
   "source": [
    "np.fromfunction(lambda x, y: x == y, (4,2))"
   ]
  },
  {
   "cell_type": "code",
   "execution_count": 80,
   "id": "6881d0f9-21a6-4c3d-be29-a62dcc9a7c25",
   "metadata": {},
   "outputs": [
    {
     "data": {
      "text/plain": [
       "array([[0., 0., 0.],\n",
       "       [0., 1., 2.],\n",
       "       [0., 2., 4.]])"
      ]
     },
     "execution_count": 80,
     "metadata": {},
     "output_type": "execute_result"
    }
   ],
   "source": [
    "np.fromfunction(lambda i, j: i*j,(3,3))"
   ]
  },
  {
   "cell_type": "code",
   "execution_count": 81,
   "id": "c58c3287-eb90-4db9-be5a-466d12165bf2",
   "metadata": {},
   "outputs": [
    {
     "data": {
      "text/plain": [
       "array([0, 1, 2])"
      ]
     },
     "execution_count": 81,
     "metadata": {},
     "output_type": "execute_result"
    }
   ],
   "source": [
    "np.fromiter((i for i in range(3)), int)"
   ]
  },
  {
   "cell_type": "code",
   "execution_count": 82,
   "id": "f0e2acf1-7eef-4647-8ae7-3024d78b7c93",
   "metadata": {},
   "outputs": [],
   "source": [
    "iterable = (i*i for i in range(5))"
   ]
  },
  {
   "cell_type": "code",
   "execution_count": 83,
   "id": "603169a3-65db-40ba-8473-661322c0273f",
   "metadata": {},
   "outputs": [
    {
     "data": {
      "text/plain": [
       "array([ 0.,  1.,  4.,  9., 16.])"
      ]
     },
     "execution_count": 83,
     "metadata": {},
     "output_type": "execute_result"
    }
   ],
   "source": [
    "np.fromiter(iterable, float)"
   ]
  },
  {
   "cell_type": "code",
   "execution_count": 84,
   "id": "d0356e89-3f7d-4f42-a19a-dd2acf0b8ef0",
   "metadata": {},
   "outputs": [
    {
     "data": {
      "text/plain": [
       "array([   1,   23,  456, 7890])"
      ]
     },
     "execution_count": 84,
     "metadata": {},
     "output_type": "execute_result"
    }
   ],
   "source": [
    "np.fromstring(\"1 23 456 7890\", sep=' ', dtype=np.int64)"
   ]
  },
  {
   "cell_type": "code",
   "execution_count": 85,
   "id": "fabda79f-1768-4e39-9b59-21c8872ef580",
   "metadata": {},
   "outputs": [
    {
     "data": {
      "text/plain": [
       "array([123., 456.])"
      ]
     },
     "execution_count": 85,
     "metadata": {},
     "output_type": "execute_result"
    }
   ],
   "source": [
    "np.fromstring('123 456', sep = ' ')"
   ]
  },
  {
   "cell_type": "code",
   "execution_count": 86,
   "id": "ac265fd1-5854-44d0-86c4-f4db7ab7736d",
   "metadata": {},
   "outputs": [
    {
     "data": {
      "text/plain": [
       "array([123., 456.])"
      ]
     },
     "execution_count": 86,
     "metadata": {},
     "output_type": "execute_result"
    }
   ],
   "source": [
    "np.fromstring('123,456', sep = ',')"
   ]
  },
  {
   "cell_type": "markdown",
   "id": "da164b58-a8b3-44c9-a91a-436390c4215a",
   "metadata": {},
   "source": [
    "### "
   ]
  },
  {
   "cell_type": "markdown",
   "id": "9e28f0b1-439b-4543-b32a-6c4337f64eea",
   "metadata": {},
   "source": [
    "## numpy methods"
   ]
  },
  {
   "cell_type": "code",
   "execution_count": 87,
   "id": "077388ea-66ad-4550-b619-9b45ced07643",
   "metadata": {},
   "outputs": [
    {
     "data": {
      "text/plain": [
       "array([0, 1, 2, 3, 4], dtype=int32)"
      ]
     },
     "execution_count": 87,
     "metadata": {},
     "output_type": "execute_result"
    }
   ],
   "source": [
    "arr = np.fromiter(range(5), np.int32)\n",
    "arr"
   ]
  },
  {
   "cell_type": "code",
   "execution_count": 88,
   "id": "75719c5e-a1f7-4c2c-9a77-c55486bd584e",
   "metadata": {},
   "outputs": [
    {
     "data": {
      "text/plain": [
       "5"
      ]
     },
     "execution_count": 88,
     "metadata": {},
     "output_type": "execute_result"
    }
   ],
   "source": [
    "arr.size"
   ]
  },
  {
   "cell_type": "code",
   "execution_count": 89,
   "id": "bbca4c34-e694-4551-8a64-1de85bc52d63",
   "metadata": {},
   "outputs": [
    {
     "data": {
      "text/plain": [
       "array([[0., 1., 2.],\n",
       "       [1., 2., 3.],\n",
       "       [2., 3., 4.],\n",
       "       [3., 4., 5.],\n",
       "       [4., 5., 6.]])"
      ]
     },
     "execution_count": 89,
     "metadata": {},
     "output_type": "execute_result"
    }
   ],
   "source": [
    "arr = np.fromfunction(lambda i, j: i + j, (5, 3))\n",
    "arr"
   ]
  },
  {
   "cell_type": "code",
   "execution_count": 90,
   "id": "e4be6b4a-d124-4e85-86e8-a1341f95083f",
   "metadata": {},
   "outputs": [
    {
     "data": {
      "text/plain": [
       "15"
      ]
     },
     "execution_count": 90,
     "metadata": {},
     "output_type": "execute_result"
    }
   ],
   "source": [
    "arr.size"
   ]
  },
  {
   "cell_type": "code",
   "execution_count": 91,
   "id": "d221a435-b71d-4463-b4cb-e9b579a32ed9",
   "metadata": {},
   "outputs": [
    {
     "data": {
      "text/plain": [
       "5"
      ]
     },
     "execution_count": 91,
     "metadata": {},
     "output_type": "execute_result"
    }
   ],
   "source": [
    "len(arr)"
   ]
  },
  {
   "cell_type": "code",
   "execution_count": 92,
   "id": "de2a5168-2dc0-4ff6-927a-5469e8a7503e",
   "metadata": {},
   "outputs": [
    {
     "data": {
      "text/plain": [
       "2"
      ]
     },
     "execution_count": 92,
     "metadata": {},
     "output_type": "execute_result"
    }
   ],
   "source": [
    "arr.ndim"
   ]
  },
  {
   "cell_type": "code",
   "execution_count": 93,
   "id": "368f7553-1688-41fb-a684-332e632961e2",
   "metadata": {},
   "outputs": [
    {
     "data": {
      "text/plain": [
       "(5, 3)"
      ]
     },
     "execution_count": 93,
     "metadata": {},
     "output_type": "execute_result"
    }
   ],
   "source": [
    "arr.shape"
   ]
  },
  {
   "cell_type": "code",
   "execution_count": 94,
   "id": "afe26edf-bbc5-4b96-84a8-ad825b65e2ff",
   "metadata": {},
   "outputs": [],
   "source": [
    "arr = np.array([1, 2, 3, 4])"
   ]
  },
  {
   "cell_type": "code",
   "execution_count": 95,
   "id": "fea624b5-02b5-4ed9-95b3-e95ec46628b9",
   "metadata": {},
   "outputs": [
    {
     "data": {
      "text/plain": [
       "1"
      ]
     },
     "execution_count": 95,
     "metadata": {},
     "output_type": "execute_result"
    }
   ],
   "source": [
    "arr.ndim"
   ]
  },
  {
   "cell_type": "code",
   "execution_count": 96,
   "id": "40504819-66a9-49c9-a8bf-5b9e7269f3ec",
   "metadata": {},
   "outputs": [
    {
     "data": {
      "text/plain": [
       "4"
      ]
     },
     "execution_count": 96,
     "metadata": {},
     "output_type": "execute_result"
    }
   ],
   "source": [
    "arr.size"
   ]
  },
  {
   "cell_type": "code",
   "execution_count": 97,
   "id": "14f0d9f1-c58c-42a0-bf61-6be5c7e4bbbd",
   "metadata": {},
   "outputs": [],
   "source": [
    "arr2 = np.array([[1, 2, 3, 4],[5, 6, 7, 8]])"
   ]
  },
  {
   "cell_type": "code",
   "execution_count": 98,
   "id": "6a710dc7-d1c0-4208-b779-adeef7f411a0",
   "metadata": {},
   "outputs": [
    {
     "data": {
      "text/plain": [
       "2"
      ]
     },
     "execution_count": 98,
     "metadata": {},
     "output_type": "execute_result"
    }
   ],
   "source": [
    "arr2.ndim"
   ]
  },
  {
   "cell_type": "code",
   "execution_count": 99,
   "id": "e1a20dfc-f44d-4b2a-8513-98294c7dcb9a",
   "metadata": {},
   "outputs": [
    {
     "data": {
      "text/plain": [
       "8"
      ]
     },
     "execution_count": 99,
     "metadata": {},
     "output_type": "execute_result"
    }
   ],
   "source": [
    "arr2.size"
   ]
  },
  {
   "cell_type": "code",
   "execution_count": 100,
   "id": "983cb3a3-bc6b-4ee3-ac31-597213ba2f76",
   "metadata": {},
   "outputs": [
    {
     "data": {
      "text/plain": [
       "(4,)"
      ]
     },
     "execution_count": 100,
     "metadata": {},
     "output_type": "execute_result"
    }
   ],
   "source": [
    "arr.shape"
   ]
  },
  {
   "cell_type": "code",
   "execution_count": 101,
   "id": "5aefb156-d860-4436-9713-8fc287cc774d",
   "metadata": {},
   "outputs": [
    {
     "data": {
      "text/plain": [
       "(2, 4)"
      ]
     },
     "execution_count": 101,
     "metadata": {},
     "output_type": "execute_result"
    }
   ],
   "source": [
    "arr2.shape"
   ]
  },
  {
   "cell_type": "code",
   "execution_count": 102,
   "id": "c971040d-d348-47fa-b281-e77c3a8ed6cf",
   "metadata": {},
   "outputs": [],
   "source": [
    "arr3 = np.array([[1, 2, 3, 4],[5, 6, 7, 8],[\"MD\", \"Emdadul\", \"Hoque\", \"Tareque\"]])"
   ]
  },
  {
   "cell_type": "code",
   "execution_count": 103,
   "id": "757e956e-53ea-423d-b8f6-bde7f1f28063",
   "metadata": {},
   "outputs": [
    {
     "data": {
      "text/plain": [
       "2"
      ]
     },
     "execution_count": 103,
     "metadata": {},
     "output_type": "execute_result"
    }
   ],
   "source": [
    "arr3.ndim"
   ]
  },
  {
   "cell_type": "code",
   "execution_count": 104,
   "id": "7fd56ca1-a811-4b10-bf2b-b58f64bae160",
   "metadata": {},
   "outputs": [
    {
     "data": {
      "text/plain": [
       "(3, 4)"
      ]
     },
     "execution_count": 104,
     "metadata": {},
     "output_type": "execute_result"
    }
   ],
   "source": [
    "arr3.shape"
   ]
  },
  {
   "cell_type": "code",
   "execution_count": 105,
   "id": "5f935722-5ab9-4247-b74c-dd058cd33674",
   "metadata": {},
   "outputs": [
    {
     "data": {
      "text/plain": [
       "dtype('int64')"
      ]
     },
     "execution_count": 105,
     "metadata": {},
     "output_type": "execute_result"
    }
   ],
   "source": [
    "arr.dtype"
   ]
  },
  {
   "cell_type": "code",
   "execution_count": 106,
   "id": "be24ca46-6f10-478a-aefa-1ce45c314c30",
   "metadata": {},
   "outputs": [
    {
     "data": {
      "text/plain": [
       "dtype('<U21')"
      ]
     },
     "execution_count": 106,
     "metadata": {},
     "output_type": "execute_result"
    }
   ],
   "source": [
    "arr3.dtype"
   ]
  },
  {
   "cell_type": "code",
   "execution_count": 107,
   "id": "3c17b490-757a-4444-acad-cd2bcf9dfa05",
   "metadata": {},
   "outputs": [
    {
     "data": {
      "text/plain": [
       "array([1.2, 2.2, 3.2, 4.2, 5.2])"
      ]
     },
     "execution_count": 107,
     "metadata": {},
     "output_type": "execute_result"
    }
   ],
   "source": [
    "np.arange(1.2, 5.3) # নরমাল range এবং arange এর মধ্যে পার্থক্য হচ্ছে numpy এর রেঞ্জ ফাংশন ফ্লোটিং ডেটা প্রডিউজ করতে পারে। "
   ]
  },
  {
   "cell_type": "code",
   "execution_count": 108,
   "id": "474fad27-d0d8-40ef-aae1-6b1e77f6d22a",
   "metadata": {},
   "outputs": [
    {
     "data": {
      "text/plain": [
       "array([1.2, 1.7, 2.2, 2.7, 3.2, 3.7, 4.2, 4.7, 5.2])"
      ]
     },
     "execution_count": 108,
     "metadata": {},
     "output_type": "execute_result"
    }
   ],
   "source": [
    "np.arange(1.2, 5.3, 0.5)"
   ]
  },
  {
   "cell_type": "code",
   "execution_count": 109,
   "id": "90ed9a3e-08eb-4fe1-8080-0a9c4d6690ed",
   "metadata": {},
   "outputs": [],
   "source": [
    "arr = np.linspace(2, 10, 5)"
   ]
  },
  {
   "cell_type": "code",
   "execution_count": 110,
   "id": "87a60001-13f2-45e2-82f4-a997bc0c9d06",
   "metadata": {},
   "outputs": [
    {
     "data": {
      "text/plain": [
       "array([ 2.,  4.,  6.,  8., 10.])"
      ]
     },
     "execution_count": 110,
     "metadata": {},
     "output_type": "execute_result"
    }
   ],
   "source": [
    "arr"
   ]
  },
  {
   "cell_type": "code",
   "execution_count": 111,
   "id": "8b1bd898-5320-4e37-993c-b48ff124e20f",
   "metadata": {},
   "outputs": [
    {
     "data": {
      "text/plain": [
       "np.float64(2.0)"
      ]
     },
     "execution_count": 111,
     "metadata": {},
     "output_type": "execute_result"
    }
   ],
   "source": [
    "arr[0]"
   ]
  },
  {
   "cell_type": "code",
   "execution_count": 112,
   "id": "ab4586b6-afc3-4772-b9e2-31a9e8483575",
   "metadata": {},
   "outputs": [
    {
     "data": {
      "text/plain": [
       "numpy.float64"
      ]
     },
     "execution_count": 112,
     "metadata": {},
     "output_type": "execute_result"
    }
   ],
   "source": [
    "type(arr[0])"
   ]
  },
  {
   "cell_type": "code",
   "execution_count": 113,
   "id": "34930d9b-f79a-44f2-adc3-06b3e60edda4",
   "metadata": {},
   "outputs": [
    {
     "data": {
      "text/plain": [
       "array([0., 0., 0., 0., 0.])"
      ]
     },
     "execution_count": 113,
     "metadata": {},
     "output_type": "execute_result"
    }
   ],
   "source": [
    "np.zeros(5)"
   ]
  },
  {
   "cell_type": "code",
   "execution_count": 114,
   "id": "ac657a01-9e9e-49d9-b083-785352f32c6d",
   "metadata": {},
   "outputs": [
    {
     "data": {
      "text/plain": [
       "array([[0., 0., 0.],\n",
       "       [0., 0., 0.]])"
      ]
     },
     "execution_count": 114,
     "metadata": {},
     "output_type": "execute_result"
    }
   ],
   "source": [
    "np.zeros((2,3))"
   ]
  },
  {
   "cell_type": "code",
   "execution_count": 115,
   "id": "d3d3705d-acaa-4f21-9682-003d04b5e887",
   "metadata": {},
   "outputs": [
    {
     "data": {
      "text/plain": [
       "array([[0., 0., 0.],\n",
       "       [0., 0., 0.]])"
      ]
     },
     "execution_count": 115,
     "metadata": {},
     "output_type": "execute_result"
    }
   ],
   "source": [
    "np.zeros((2,3))"
   ]
  },
  {
   "cell_type": "code",
   "execution_count": 116,
   "id": "5708eef2-78bb-4256-935f-2614d8bb4415",
   "metadata": {},
   "outputs": [
    {
     "data": {
      "text/plain": [
       "array([[[0., 0., 0.],\n",
       "        [0., 0., 0.],\n",
       "        [0., 0., 0.]],\n",
       "\n",
       "       [[0., 0., 0.],\n",
       "        [0., 0., 0.],\n",
       "        [0., 0., 0.]],\n",
       "\n",
       "       [[0., 0., 0.],\n",
       "        [0., 0., 0.],\n",
       "        [0., 0., 0.]]])"
      ]
     },
     "execution_count": 116,
     "metadata": {},
     "output_type": "execute_result"
    }
   ],
   "source": [
    "np.zeros((3,3,3))"
   ]
  },
  {
   "cell_type": "code",
   "execution_count": 48,
   "id": "b2605cdf-cb03-4a2d-9ef0-342fd9cba104",
   "metadata": {},
   "outputs": [
    {
     "data": {
      "text/plain": [
       "array([1., 1., 1., 1., 1.])"
      ]
     },
     "execution_count": 48,
     "metadata": {},
     "output_type": "execute_result"
    }
   ],
   "source": [
    "np.ones(5)"
   ]
  },
  {
   "cell_type": "code",
   "execution_count": 49,
   "id": "17e514ac-1ff7-462b-9cd4-4c20e5325ae2",
   "metadata": {},
   "outputs": [
    {
     "data": {
      "text/plain": [
       "array([[1., 1., 1., 1.],\n",
       "       [1., 1., 1., 1.]])"
      ]
     },
     "execution_count": 49,
     "metadata": {},
     "output_type": "execute_result"
    }
   ],
   "source": [
    "np.ones((2,4))"
   ]
  },
  {
   "cell_type": "code",
   "execution_count": 50,
   "id": "49c71c1c-91a7-49f0-849a-16ebaf82cb2e",
   "metadata": {},
   "outputs": [
    {
     "data": {
      "text/plain": [
       "array([[[1., 1., 1.],\n",
       "        [1., 1., 1.],\n",
       "        [1., 1., 1.],\n",
       "        [1., 1., 1.]],\n",
       "\n",
       "       [[1., 1., 1.],\n",
       "        [1., 1., 1.],\n",
       "        [1., 1., 1.],\n",
       "        [1., 1., 1.]]])"
      ]
     },
     "execution_count": 50,
     "metadata": {},
     "output_type": "execute_result"
    }
   ],
   "source": [
    "np.ones((2,4,3))"
   ]
  },
  {
   "cell_type": "code",
   "execution_count": 53,
   "id": "2fe1724b-66a5-4709-8d55-4603c70abce9",
   "metadata": {},
   "outputs": [
    {
     "data": {
      "text/plain": [
       "array([[1., 0., 0., 0.],\n",
       "       [0., 1., 0., 0.],\n",
       "       [0., 0., 1., 0.],\n",
       "       [0., 0., 0., 1.]])"
      ]
     },
     "execution_count": 53,
     "metadata": {},
     "output_type": "execute_result"
    }
   ],
   "source": [
    "np.eye(4)"
   ]
  },
  {
   "cell_type": "code",
   "execution_count": 117,
   "id": "e3446313-b2e2-44fc-a180-eb89467f9f7d",
   "metadata": {},
   "outputs": [],
   "source": [
    "arr = np.random.randn(3, 4) "
   ]
  },
  {
   "cell_type": "code",
   "execution_count": 118,
   "id": "0e0a57b4-cd27-4e45-85ad-9267fdc1fc02",
   "metadata": {},
   "outputs": [],
   "source": [
    "import pandas as pd"
   ]
  },
  {
   "cell_type": "code",
   "execution_count": 119,
   "id": "accf7dbf-200f-457d-b5e1-0d034c138f5e",
   "metadata": {},
   "outputs": [
    {
     "data": {
      "text/html": [
       "<div>\n",
       "<style scoped>\n",
       "    .dataframe tbody tr th:only-of-type {\n",
       "        vertical-align: middle;\n",
       "    }\n",
       "\n",
       "    .dataframe tbody tr th {\n",
       "        vertical-align: top;\n",
       "    }\n",
       "\n",
       "    .dataframe thead th {\n",
       "        text-align: right;\n",
       "    }\n",
       "</style>\n",
       "<table border=\"1\" class=\"dataframe\">\n",
       "  <thead>\n",
       "    <tr style=\"text-align: right;\">\n",
       "      <th></th>\n",
       "      <th>0</th>\n",
       "      <th>1</th>\n",
       "      <th>2</th>\n",
       "      <th>3</th>\n",
       "    </tr>\n",
       "  </thead>\n",
       "  <tbody>\n",
       "    <tr>\n",
       "      <th>0</th>\n",
       "      <td>0.308095</td>\n",
       "      <td>0.304697</td>\n",
       "      <td>-1.268205</td>\n",
       "      <td>1.257858</td>\n",
       "    </tr>\n",
       "    <tr>\n",
       "      <th>1</th>\n",
       "      <td>-0.676742</td>\n",
       "      <td>0.668078</td>\n",
       "      <td>-2.969830</td>\n",
       "      <td>0.785611</td>\n",
       "    </tr>\n",
       "    <tr>\n",
       "      <th>2</th>\n",
       "      <td>1.971394</td>\n",
       "      <td>-0.219798</td>\n",
       "      <td>-0.619688</td>\n",
       "      <td>-0.926644</td>\n",
       "    </tr>\n",
       "  </tbody>\n",
       "</table>\n",
       "</div>"
      ],
      "text/plain": [
       "          0         1         2         3\n",
       "0  0.308095  0.304697 -1.268205  1.257858\n",
       "1 -0.676742  0.668078 -2.969830  0.785611\n",
       "2  1.971394 -0.219798 -0.619688 -0.926644"
      ]
     },
     "execution_count": 119,
     "metadata": {},
     "output_type": "execute_result"
    }
   ],
   "source": [
    "pd.DataFrame(arr)"
   ]
  },
  {
   "cell_type": "code",
   "execution_count": 120,
   "id": "3bd52a4d-2838-4f46-91e0-340eb819bcb5",
   "metadata": {},
   "outputs": [
    {
     "data": {
      "text/plain": [
       "array([[0.95864533, 0.41801057, 0.44616043, 0.18213986],\n",
       "       [0.05000103, 0.80796294, 0.49855484, 0.49778559],\n",
       "       [0.13733114, 0.24651926, 0.36374829, 0.94554061]])"
      ]
     },
     "execution_count": 120,
     "metadata": {},
     "output_type": "execute_result"
    }
   ],
   "source": [
    "np.random.rand(3, 4)"
   ]
  },
  {
   "cell_type": "code",
   "execution_count": 121,
   "id": "4fe4e752-1688-4ee2-bf4f-dce78c273cf2",
   "metadata": {},
   "outputs": [
    {
     "data": {
      "text/plain": [
       "array([[6, 7, 1, 1],\n",
       "       [1, 7, 7, 6],\n",
       "       [8, 2, 6, 5]])"
      ]
     },
     "execution_count": 121,
     "metadata": {},
     "output_type": "execute_result"
    }
   ],
   "source": [
    "np.random.randint(1, 10, (3, 4))"
   ]
  },
  {
   "cell_type": "code",
   "execution_count": 127,
   "id": "f15f3ece-f0b0-43dc-ab64-56ffc7fa4dee",
   "metadata": {},
   "outputs": [],
   "source": [
    "arr = np.random.randint(1, 10, (10, 20))"
   ]
  },
  {
   "cell_type": "code",
   "execution_count": 128,
   "id": "05065c67-a923-4393-9a2e-1d5bbe309727",
   "metadata": {},
   "outputs": [
    {
     "data": {
      "text/html": [
       "<div>\n",
       "<style scoped>\n",
       "    .dataframe tbody tr th:only-of-type {\n",
       "        vertical-align: middle;\n",
       "    }\n",
       "\n",
       "    .dataframe tbody tr th {\n",
       "        vertical-align: top;\n",
       "    }\n",
       "\n",
       "    .dataframe thead th {\n",
       "        text-align: right;\n",
       "    }\n",
       "</style>\n",
       "<table border=\"1\" class=\"dataframe\">\n",
       "  <thead>\n",
       "    <tr style=\"text-align: right;\">\n",
       "      <th></th>\n",
       "      <th>0</th>\n",
       "      <th>1</th>\n",
       "      <th>2</th>\n",
       "      <th>3</th>\n",
       "      <th>4</th>\n",
       "      <th>5</th>\n",
       "      <th>6</th>\n",
       "      <th>7</th>\n",
       "      <th>8</th>\n",
       "      <th>9</th>\n",
       "      <th>10</th>\n",
       "      <th>11</th>\n",
       "      <th>12</th>\n",
       "      <th>13</th>\n",
       "      <th>14</th>\n",
       "      <th>15</th>\n",
       "      <th>16</th>\n",
       "      <th>17</th>\n",
       "      <th>18</th>\n",
       "      <th>19</th>\n",
       "    </tr>\n",
       "  </thead>\n",
       "  <tbody>\n",
       "    <tr>\n",
       "      <th>0</th>\n",
       "      <td>3</td>\n",
       "      <td>4</td>\n",
       "      <td>4</td>\n",
       "      <td>1</td>\n",
       "      <td>6</td>\n",
       "      <td>3</td>\n",
       "      <td>7</td>\n",
       "      <td>3</td>\n",
       "      <td>3</td>\n",
       "      <td>2</td>\n",
       "      <td>9</td>\n",
       "      <td>5</td>\n",
       "      <td>7</td>\n",
       "      <td>7</td>\n",
       "      <td>8</td>\n",
       "      <td>9</td>\n",
       "      <td>5</td>\n",
       "      <td>3</td>\n",
       "      <td>3</td>\n",
       "      <td>8</td>\n",
       "    </tr>\n",
       "    <tr>\n",
       "      <th>1</th>\n",
       "      <td>3</td>\n",
       "      <td>1</td>\n",
       "      <td>5</td>\n",
       "      <td>4</td>\n",
       "      <td>8</td>\n",
       "      <td>5</td>\n",
       "      <td>7</td>\n",
       "      <td>2</td>\n",
       "      <td>8</td>\n",
       "      <td>6</td>\n",
       "      <td>3</td>\n",
       "      <td>2</td>\n",
       "      <td>2</td>\n",
       "      <td>2</td>\n",
       "      <td>7</td>\n",
       "      <td>2</td>\n",
       "      <td>3</td>\n",
       "      <td>4</td>\n",
       "      <td>6</td>\n",
       "      <td>9</td>\n",
       "    </tr>\n",
       "    <tr>\n",
       "      <th>2</th>\n",
       "      <td>6</td>\n",
       "      <td>9</td>\n",
       "      <td>7</td>\n",
       "      <td>2</td>\n",
       "      <td>2</td>\n",
       "      <td>6</td>\n",
       "      <td>4</td>\n",
       "      <td>5</td>\n",
       "      <td>5</td>\n",
       "      <td>3</td>\n",
       "      <td>5</td>\n",
       "      <td>8</td>\n",
       "      <td>7</td>\n",
       "      <td>4</td>\n",
       "      <td>7</td>\n",
       "      <td>8</td>\n",
       "      <td>5</td>\n",
       "      <td>3</td>\n",
       "      <td>8</td>\n",
       "      <td>8</td>\n",
       "    </tr>\n",
       "    <tr>\n",
       "      <th>3</th>\n",
       "      <td>1</td>\n",
       "      <td>1</td>\n",
       "      <td>8</td>\n",
       "      <td>4</td>\n",
       "      <td>1</td>\n",
       "      <td>5</td>\n",
       "      <td>1</td>\n",
       "      <td>2</td>\n",
       "      <td>8</td>\n",
       "      <td>9</td>\n",
       "      <td>4</td>\n",
       "      <td>9</td>\n",
       "      <td>6</td>\n",
       "      <td>2</td>\n",
       "      <td>5</td>\n",
       "      <td>5</td>\n",
       "      <td>6</td>\n",
       "      <td>1</td>\n",
       "      <td>8</td>\n",
       "      <td>3</td>\n",
       "    </tr>\n",
       "    <tr>\n",
       "      <th>4</th>\n",
       "      <td>8</td>\n",
       "      <td>8</td>\n",
       "      <td>6</td>\n",
       "      <td>9</td>\n",
       "      <td>5</td>\n",
       "      <td>6</td>\n",
       "      <td>9</td>\n",
       "      <td>4</td>\n",
       "      <td>7</td>\n",
       "      <td>3</td>\n",
       "      <td>8</td>\n",
       "      <td>6</td>\n",
       "      <td>6</td>\n",
       "      <td>1</td>\n",
       "      <td>1</td>\n",
       "      <td>7</td>\n",
       "      <td>1</td>\n",
       "      <td>5</td>\n",
       "      <td>2</td>\n",
       "      <td>5</td>\n",
       "    </tr>\n",
       "    <tr>\n",
       "      <th>5</th>\n",
       "      <td>9</td>\n",
       "      <td>4</td>\n",
       "      <td>7</td>\n",
       "      <td>9</td>\n",
       "      <td>7</td>\n",
       "      <td>7</td>\n",
       "      <td>6</td>\n",
       "      <td>3</td>\n",
       "      <td>8</td>\n",
       "      <td>6</td>\n",
       "      <td>7</td>\n",
       "      <td>7</td>\n",
       "      <td>3</td>\n",
       "      <td>4</td>\n",
       "      <td>8</td>\n",
       "      <td>6</td>\n",
       "      <td>9</td>\n",
       "      <td>5</td>\n",
       "      <td>4</td>\n",
       "      <td>9</td>\n",
       "    </tr>\n",
       "    <tr>\n",
       "      <th>6</th>\n",
       "      <td>2</td>\n",
       "      <td>8</td>\n",
       "      <td>2</td>\n",
       "      <td>4</td>\n",
       "      <td>7</td>\n",
       "      <td>6</td>\n",
       "      <td>4</td>\n",
       "      <td>2</td>\n",
       "      <td>8</td>\n",
       "      <td>5</td>\n",
       "      <td>1</td>\n",
       "      <td>3</td>\n",
       "      <td>5</td>\n",
       "      <td>3</td>\n",
       "      <td>4</td>\n",
       "      <td>5</td>\n",
       "      <td>6</td>\n",
       "      <td>7</td>\n",
       "      <td>2</td>\n",
       "      <td>3</td>\n",
       "    </tr>\n",
       "    <tr>\n",
       "      <th>7</th>\n",
       "      <td>3</td>\n",
       "      <td>2</td>\n",
       "      <td>1</td>\n",
       "      <td>8</td>\n",
       "      <td>2</td>\n",
       "      <td>5</td>\n",
       "      <td>6</td>\n",
       "      <td>8</td>\n",
       "      <td>1</td>\n",
       "      <td>1</td>\n",
       "      <td>3</td>\n",
       "      <td>5</td>\n",
       "      <td>1</td>\n",
       "      <td>5</td>\n",
       "      <td>3</td>\n",
       "      <td>2</td>\n",
       "      <td>9</td>\n",
       "      <td>3</td>\n",
       "      <td>1</td>\n",
       "      <td>8</td>\n",
       "    </tr>\n",
       "    <tr>\n",
       "      <th>8</th>\n",
       "      <td>1</td>\n",
       "      <td>9</td>\n",
       "      <td>6</td>\n",
       "      <td>4</td>\n",
       "      <td>7</td>\n",
       "      <td>1</td>\n",
       "      <td>5</td>\n",
       "      <td>7</td>\n",
       "      <td>6</td>\n",
       "      <td>3</td>\n",
       "      <td>4</td>\n",
       "      <td>3</td>\n",
       "      <td>3</td>\n",
       "      <td>9</td>\n",
       "      <td>8</td>\n",
       "      <td>7</td>\n",
       "      <td>6</td>\n",
       "      <td>1</td>\n",
       "      <td>7</td>\n",
       "      <td>2</td>\n",
       "    </tr>\n",
       "    <tr>\n",
       "      <th>9</th>\n",
       "      <td>4</td>\n",
       "      <td>1</td>\n",
       "      <td>9</td>\n",
       "      <td>4</td>\n",
       "      <td>9</td>\n",
       "      <td>1</td>\n",
       "      <td>7</td>\n",
       "      <td>4</td>\n",
       "      <td>3</td>\n",
       "      <td>8</td>\n",
       "      <td>6</td>\n",
       "      <td>8</td>\n",
       "      <td>2</td>\n",
       "      <td>7</td>\n",
       "      <td>7</td>\n",
       "      <td>6</td>\n",
       "      <td>5</td>\n",
       "      <td>1</td>\n",
       "      <td>8</td>\n",
       "      <td>4</td>\n",
       "    </tr>\n",
       "  </tbody>\n",
       "</table>\n",
       "</div>"
      ],
      "text/plain": [
       "   0   1   2   3   4   5   6   7   8   9   10  11  12  13  14  15  16  17  18  \\\n",
       "0   3   4   4   1   6   3   7   3   3   2   9   5   7   7   8   9   5   3   3   \n",
       "1   3   1   5   4   8   5   7   2   8   6   3   2   2   2   7   2   3   4   6   \n",
       "2   6   9   7   2   2   6   4   5   5   3   5   8   7   4   7   8   5   3   8   \n",
       "3   1   1   8   4   1   5   1   2   8   9   4   9   6   2   5   5   6   1   8   \n",
       "4   8   8   6   9   5   6   9   4   7   3   8   6   6   1   1   7   1   5   2   \n",
       "5   9   4   7   9   7   7   6   3   8   6   7   7   3   4   8   6   9   5   4   \n",
       "6   2   8   2   4   7   6   4   2   8   5   1   3   5   3   4   5   6   7   2   \n",
       "7   3   2   1   8   2   5   6   8   1   1   3   5   1   5   3   2   9   3   1   \n",
       "8   1   9   6   4   7   1   5   7   6   3   4   3   3   9   8   7   6   1   7   \n",
       "9   4   1   9   4   9   1   7   4   3   8   6   8   2   7   7   6   5   1   8   \n",
       "\n",
       "   19  \n",
       "0   8  \n",
       "1   9  \n",
       "2   8  \n",
       "3   3  \n",
       "4   5  \n",
       "5   9  \n",
       "6   3  \n",
       "7   8  \n",
       "8   2  \n",
       "9   4  "
      ]
     },
     "execution_count": 128,
     "metadata": {},
     "output_type": "execute_result"
    }
   ],
   "source": [
    "pd.DataFrame(arr)"
   ]
  },
  {
   "cell_type": "code",
   "execution_count": 129,
   "id": "52898cfc-931f-4781-a467-babee9905324",
   "metadata": {},
   "outputs": [],
   "source": [
    "df = pd.DataFrame(arr)"
   ]
  },
  {
   "cell_type": "code",
   "execution_count": 130,
   "id": "d45fd0c3-3762-418d-bb03-fb9bb54577a2",
   "metadata": {},
   "outputs": [],
   "source": [
    "df.to_csv('sample_data.csv')"
   ]
  },
  {
   "cell_type": "code",
   "execution_count": 145,
   "id": "422fad95-d8b9-44ff-8d3d-da9bfa8a2211",
   "metadata": {},
   "outputs": [
    {
     "data": {
      "text/plain": [
       "array([2, 2, 4, 1, 1, 1, 3, 3, 4, 2, 2, 3, 3, 1, 4, 1, 4, 2, 2, 4, 4, 4,\n",
       "       4, 3, 3, 4, 2])"
      ]
     },
     "execution_count": 145,
     "metadata": {},
     "output_type": "execute_result"
    }
   ],
   "source": [
    "arr = np.random.randint(1, 5, 27)\n",
    "arr"
   ]
  },
  {
   "cell_type": "code",
   "execution_count": 146,
   "id": "78de221e-2d4f-4865-8e6b-38c164033f6d",
   "metadata": {},
   "outputs": [
    {
     "data": {
      "text/plain": [
       "array([[[2, 2, 4],\n",
       "        [1, 1, 1],\n",
       "        [3, 3, 4]],\n",
       "\n",
       "       [[2, 2, 3],\n",
       "        [3, 1, 4],\n",
       "        [1, 4, 2]],\n",
       "\n",
       "       [[2, 4, 4],\n",
       "        [4, 4, 3],\n",
       "        [3, 4, 2]]])"
      ]
     },
     "execution_count": 146,
     "metadata": {},
     "output_type": "execute_result"
    }
   ],
   "source": [
    "arr.reshape((3, 3, 3))"
   ]
  },
  {
   "cell_type": "code",
   "execution_count": 148,
   "id": "48a538f0-a0d0-444b-bed3-92c2a947d81e",
   "metadata": {},
   "outputs": [],
   "source": [
    "arr = np.random.randint(1, 10, (3, 4))"
   ]
  },
  {
   "cell_type": "code",
   "execution_count": 149,
   "id": "2fe8f461-5fd8-4750-97e8-0a6fb800f793",
   "metadata": {},
   "outputs": [
    {
     "data": {
      "text/plain": [
       "array([[8, 9],\n",
       "       [5, 1],\n",
       "       [2, 1],\n",
       "       [4, 8],\n",
       "       [6, 3],\n",
       "       [6, 7]])"
      ]
     },
     "execution_count": 149,
     "metadata": {},
     "output_type": "execute_result"
    }
   ],
   "source": [
    "arr.reshape(6,2) # this function using in image processing "
   ]
  },
  {
   "cell_type": "code",
   "execution_count": 172,
   "id": "2e8b4cd3-2d1b-4a00-be5e-0ec52a807f6a",
   "metadata": {},
   "outputs": [],
   "source": [
    "arr = np.random.randint(1, 10, (3, 4))"
   ]
  },
  {
   "cell_type": "code",
   "execution_count": 173,
   "id": "db62f878-06f4-407b-901a-60f45fe8c8e4",
   "metadata": {},
   "outputs": [
    {
     "data": {
      "text/plain": [
       "array([[6, 9, 1, 3],\n",
       "       [6, 2, 3, 2],\n",
       "       [2, 1, 3, 8]])"
      ]
     },
     "execution_count": 173,
     "metadata": {},
     "output_type": "execute_result"
    }
   ],
   "source": [
    "arr"
   ]
  },
  {
   "cell_type": "code",
   "execution_count": 183,
   "id": "c6322822-e613-4835-8b91-8a7c1be29cc2",
   "metadata": {},
   "outputs": [
    {
     "data": {
      "text/plain": [
       "array([[3, 2],\n",
       "       [3, 8]])"
      ]
     },
     "execution_count": 183,
     "metadata": {},
     "output_type": "execute_result"
    }
   ],
   "source": [
    "arr[1:, 2:]"
   ]
  },
  {
   "cell_type": "code",
   "execution_count": 152,
   "id": "654c9753-1f7c-4674-9874-8bd48a6998d5",
   "metadata": {},
   "outputs": [
    {
     "data": {
      "text/plain": [
       "np.int64(4)"
      ]
     },
     "execution_count": 152,
     "metadata": {},
     "output_type": "execute_result"
    }
   ],
   "source": [
    "arr[0][0]"
   ]
  },
  {
   "cell_type": "code",
   "execution_count": 109,
   "id": "edbfd08b-fb14-4c64-8046-e588cbea2015",
   "metadata": {},
   "outputs": [
    {
     "data": {
      "text/plain": [
       "9"
      ]
     },
     "execution_count": 109,
     "metadata": {},
     "output_type": "execute_result"
    }
   ],
   "source": [
    "arr[0][1]"
   ]
  },
  {
   "cell_type": "code",
   "execution_count": 110,
   "id": "66147e09-34cb-4156-bfe6-9acfcada9871",
   "metadata": {},
   "outputs": [
    {
     "data": {
      "text/plain": [
       "6"
      ]
     },
     "execution_count": 110,
     "metadata": {},
     "output_type": "execute_result"
    }
   ],
   "source": [
    "arr[1][2]"
   ]
  },
  {
   "cell_type": "code",
   "execution_count": 111,
   "id": "e8ad59a3-99c1-483e-984c-99f5aaa161c7",
   "metadata": {},
   "outputs": [
    {
     "data": {
      "text/plain": [
       "9"
      ]
     },
     "execution_count": 111,
     "metadata": {},
     "output_type": "execute_result"
    }
   ],
   "source": [
    "arr[1][3]"
   ]
  },
  {
   "cell_type": "code",
   "execution_count": 112,
   "id": "e537bede-f609-44af-a983-95dee0c94f75",
   "metadata": {},
   "outputs": [
    {
     "data": {
      "text/plain": [
       "array([[4, 9, 8, 7],\n",
       "       [4, 9, 6, 9],\n",
       "       [8, 4, 1, 3]])"
      ]
     },
     "execution_count": 112,
     "metadata": {},
     "output_type": "execute_result"
    }
   ],
   "source": [
    "arr[0:3]"
   ]
  },
  {
   "cell_type": "code",
   "execution_count": 113,
   "id": "36a32e4f-adf9-44d2-ac51-4a77196e57a4",
   "metadata": {},
   "outputs": [
    {
     "data": {
      "text/plain": [
       "8"
      ]
     },
     "execution_count": 113,
     "metadata": {},
     "output_type": "execute_result"
    }
   ],
   "source": [
    "arr[0:3][0][2]"
   ]
  },
  {
   "cell_type": "code",
   "execution_count": 114,
   "id": "89aff011-babb-4019-b9dc-2993b70e5391",
   "metadata": {},
   "outputs": [
    {
     "data": {
      "text/plain": [
       "array([[4, 8],\n",
       "       [4, 6],\n",
       "       [8, 1]])"
      ]
     },
     "execution_count": 114,
     "metadata": {},
     "output_type": "execute_result"
    }
   ],
   "source": [
    "arr[0:3, [0, 2]]"
   ]
  },
  {
   "cell_type": "code",
   "execution_count": 165,
   "id": "1b75aeec-4954-40d3-bb90-c274359de65d",
   "metadata": {},
   "outputs": [],
   "source": [
    "arr = np.random.randint(1, 100, (5,5))"
   ]
  },
  {
   "cell_type": "code",
   "execution_count": 166,
   "id": "f284ff56-6d5a-4133-9381-2480f97a310c",
   "metadata": {},
   "outputs": [
    {
     "data": {
      "text/plain": [
       "array([[80, 18, 87, 12, 43],\n",
       "       [22, 60, 30, 70,  5],\n",
       "       [16, 19, 74, 55, 45],\n",
       "       [70, 88, 28, 17, 54],\n",
       "       [50,  4, 51, 18, 34]])"
      ]
     },
     "execution_count": 166,
     "metadata": {},
     "output_type": "execute_result"
    }
   ],
   "source": [
    "arr"
   ]
  },
  {
   "cell_type": "code",
   "execution_count": 167,
   "id": "38399e15-dd8a-432b-ad0c-2143c8ebca06",
   "metadata": {},
   "outputs": [
    {
     "data": {
      "text/plain": [
       "array([[ True, False,  True, False, False],\n",
       "       [False,  True, False,  True, False],\n",
       "       [False, False,  True,  True, False],\n",
       "       [ True,  True, False, False,  True],\n",
       "       [False, False,  True, False, False]])"
      ]
     },
     "execution_count": 167,
     "metadata": {},
     "output_type": "execute_result"
    }
   ],
   "source": [
    "arr>50"
   ]
  },
  {
   "cell_type": "code",
   "execution_count": 168,
   "id": "b7f080d0-e975-4d4a-912e-0705501d2b4c",
   "metadata": {},
   "outputs": [
    {
     "data": {
      "text/plain": [
       "array([80, 87, 60, 70, 74, 55, 70, 88, 54, 51])"
      ]
     },
     "execution_count": 168,
     "metadata": {},
     "output_type": "execute_result"
    }
   ],
   "source": [
    "arr[arr>50]"
   ]
  },
  {
   "cell_type": "code",
   "execution_count": 169,
   "id": "2cdead25-7b3d-4a3a-a1e9-8a8a35226ad8",
   "metadata": {},
   "outputs": [
    {
     "data": {
      "text/plain": [
       "array([[80, 18, 87, 12, 43],\n",
       "       [22, 60, 30, 70,  5],\n",
       "       [16, 19, 74, 55, 45],\n",
       "       [70, 88, 28, 17, 54],\n",
       "       [50,  4, 51, 18, 34]])"
      ]
     },
     "execution_count": 169,
     "metadata": {},
     "output_type": "execute_result"
    }
   ],
   "source": [
    "arr"
   ]
  },
  {
   "cell_type": "code",
   "execution_count": 170,
   "id": "45f1d276-98b4-493a-b78f-77ea77294d95",
   "metadata": {},
   "outputs": [
    {
     "data": {
      "text/plain": [
       "array([[60, 30],\n",
       "       [19, 74]])"
      ]
     },
     "execution_count": 170,
     "metadata": {},
     "output_type": "execute_result"
    }
   ],
   "source": [
    "arr[1:3, [1, 2]]"
   ]
  },
  {
   "cell_type": "code",
   "execution_count": 185,
   "id": "e4b16b11-61c3-4500-ab74-32dba167a9b4",
   "metadata": {},
   "outputs": [],
   "source": [
    "arr1 = np.random.randint(1, 5, (3,3))"
   ]
  },
  {
   "cell_type": "code",
   "execution_count": 186,
   "id": "33e53411-ef46-4b2c-93fe-7a7eca979d6b",
   "metadata": {},
   "outputs": [],
   "source": [
    "arr2 = np.random.randint(1, 5, (3,3))"
   ]
  },
  {
   "cell_type": "code",
   "execution_count": 187,
   "id": "1d4afeae-5bdd-4fa3-9b10-db0e3874d4a3",
   "metadata": {},
   "outputs": [
    {
     "data": {
      "text/plain": [
       "array([[4, 2, 4],\n",
       "       [2, 2, 4],\n",
       "       [1, 1, 1]])"
      ]
     },
     "execution_count": 187,
     "metadata": {},
     "output_type": "execute_result"
    }
   ],
   "source": [
    "arr1"
   ]
  },
  {
   "cell_type": "code",
   "execution_count": 188,
   "id": "3085a48d-a05c-45c4-86e4-1b15afe361a7",
   "metadata": {},
   "outputs": [
    {
     "data": {
      "text/plain": [
       "array([[2, 4, 2],\n",
       "       [4, 3, 2],\n",
       "       [3, 2, 4]])"
      ]
     },
     "execution_count": 188,
     "metadata": {},
     "output_type": "execute_result"
    }
   ],
   "source": [
    "arr2"
   ]
  },
  {
   "cell_type": "code",
   "execution_count": 189,
   "id": "a326be4a-e450-4215-aa47-c8576243ab43",
   "metadata": {},
   "outputs": [
    {
     "data": {
      "text/plain": [
       "array([[6, 6, 6],\n",
       "       [6, 5, 6],\n",
       "       [4, 3, 5]])"
      ]
     },
     "execution_count": 189,
     "metadata": {},
     "output_type": "execute_result"
    }
   ],
   "source": [
    "arr1+arr2"
   ]
  },
  {
   "cell_type": "code",
   "execution_count": 190,
   "id": "2aee5ca5-e491-47ac-844c-9caf499a0899",
   "metadata": {},
   "outputs": [
    {
     "data": {
      "text/plain": [
       "array([[ 2, -2,  2],\n",
       "       [-2, -1,  2],\n",
       "       [-2, -1, -3]])"
      ]
     },
     "execution_count": 190,
     "metadata": {},
     "output_type": "execute_result"
    }
   ],
   "source": [
    "arr1-arr2"
   ]
  },
  {
   "cell_type": "code",
   "execution_count": 191,
   "id": "700f657d-a6aa-4f76-85fe-e85dac3355c8",
   "metadata": {},
   "outputs": [
    {
     "data": {
      "text/plain": [
       "array([[8, 8, 8],\n",
       "       [8, 6, 8],\n",
       "       [3, 2, 4]])"
      ]
     },
     "execution_count": 191,
     "metadata": {},
     "output_type": "execute_result"
    }
   ],
   "source": [
    "arr1 * arr2"
   ]
  },
  {
   "cell_type": "code",
   "execution_count": 192,
   "id": "ca1cf92b-a1ce-4c3c-80c1-7f448d8fd8e6",
   "metadata": {},
   "outputs": [
    {
     "data": {
      "text/plain": [
       "array([[28, 30, 28],\n",
       "       [24, 22, 24],\n",
       "       [ 9,  9,  8]])"
      ]
     },
     "execution_count": 192,
     "metadata": {},
     "output_type": "execute_result"
    }
   ],
   "source": [
    "arr1@arr2 #matrix multiplication"
   ]
  }
 ],
 "metadata": {
  "kernelspec": {
   "display_name": "Python 3 (ipykernel)",
   "language": "python",
   "name": "python3"
  },
  "language_info": {
   "codemirror_mode": {
    "name": "ipython",
    "version": 3
   },
   "file_extension": ".py",
   "mimetype": "text/x-python",
   "name": "python",
   "nbconvert_exporter": "python",
   "pygments_lexer": "ipython3",
   "version": "3.11.11"
  }
 },
 "nbformat": 4,
 "nbformat_minor": 5
}
